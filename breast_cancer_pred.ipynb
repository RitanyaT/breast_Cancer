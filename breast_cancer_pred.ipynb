{
  "nbformat": 4,
  "nbformat_minor": 0,
  "metadata": {
    "colab": {
      "provenance": []
    },
    "kernelspec": {
      "name": "python3",
      "display_name": "Python 3"
    },
    "language_info": {
      "name": "python"
    }
  },
  "cells": [
    {
      "cell_type": "code",
      "execution_count": null,
      "metadata": {
        "id": "FANwQRT5Z1md"
      },
      "outputs": [],
      "source": [
        "import pandas as pd\n",
        "import numpy as np\n",
        "from sklearn.model_selection import train_test_split\n",
        "from sklearn.preprocessing import LabelEncoder, StandardScaler\n",
        "from tensorflow.keras.models import Sequential\n",
        "from tensorflow.keras.layers import Dense\n"
      ]
    },
    {
      "cell_type": "code",
      "source": [
        "data = pd.read_csv('/content/data.csv')\n"
      ],
      "metadata": {
        "id": "taiZ1peXb7fr"
      },
      "execution_count": null,
      "outputs": []
    },
    {
      "cell_type": "code",
      "source": [
        "data = data.drop('id', axis=1)  # Drop 'id' column\n",
        "encoder = LabelEncoder()\n",
        "data['diagnosis'] = encoder.fit_transform(data['diagnosis'])  # Encode diagnosis column\n",
        "X = data.drop('diagnosis', axis=1)\n",
        "y = data['diagnosis']\n"
      ],
      "metadata": {
        "id": "RSZncVtScEJz"
      },
      "execution_count": null,
      "outputs": []
    },
    {
      "cell_type": "code",
      "source": [
        "X_train, X_test, y_train, y_test = train_test_split(X, y, test_size=0.2, random_state=42)\n"
      ],
      "metadata": {
        "id": "Ir3UR0e0cLTF"
      },
      "execution_count": null,
      "outputs": []
    },
    {
      "cell_type": "code",
      "source": [
        "scaler = StandardScaler()\n",
        "X_train = scaler.fit_transform(X_train)\n",
        "X_test = scaler.transform(X_test)\n"
      ],
      "metadata": {
        "id": "vgfiJB-FcOGG"
      },
      "execution_count": null,
      "outputs": []
    },
    {
      "cell_type": "code",
      "source": [
        "model = Sequential([\n",
        "    Dense(64, activation='relu', input_shape=(X_train.shape[1],)),\n",
        "    Dense(32, activation='relu'),\n",
        "    Dense(1, activation='sigmoid')\n",
        "])\n"
      ],
      "metadata": {
        "id": "9eaWUl7lcPfK"
      },
      "execution_count": null,
      "outputs": []
    },
    {
      "cell_type": "code",
      "source": [
        "model.compile(optimizer='adam', loss='binary_crossentropy', metrics=['accuracy'])\n"
      ],
      "metadata": {
        "id": "AfbAPH0CcTBs"
      },
      "execution_count": null,
      "outputs": []
    },
    {
      "cell_type": "code",
      "source": [
        "history = model.fit(X_train, y_train, epochs=100, batch_size=64, validation_split=0.2)\n"
      ],
      "metadata": {
        "colab": {
          "base_uri": "https://localhost:8080/"
        },
        "id": "sB7k9IvUcXj6",
        "outputId": "60647316-d0dd-47e3-e645-5a69a49bfef1"
      },
      "execution_count": null,
      "outputs": [
        {
          "output_type": "stream",
          "name": "stdout",
          "text": [
            "Epoch 1/100\n",
            "6/6 [==============================] - 1s 38ms/step - loss: 0.5932 - accuracy: 0.7088 - val_loss: 0.4615 - val_accuracy: 0.8681\n",
            "Epoch 2/100\n",
            "6/6 [==============================] - 0s 11ms/step - loss: 0.4363 - accuracy: 0.9038 - val_loss: 0.3573 - val_accuracy: 0.9451\n",
            "Epoch 3/100\n",
            "6/6 [==============================] - 0s 8ms/step - loss: 0.3411 - accuracy: 0.9231 - val_loss: 0.2866 - val_accuracy: 0.9670\n",
            "Epoch 4/100\n",
            "6/6 [==============================] - 0s 11ms/step - loss: 0.2724 - accuracy: 0.9368 - val_loss: 0.2372 - val_accuracy: 0.9560\n",
            "Epoch 5/100\n",
            "6/6 [==============================] - 0s 11ms/step - loss: 0.2217 - accuracy: 0.9451 - val_loss: 0.2011 - val_accuracy: 0.9670\n",
            "Epoch 6/100\n",
            "6/6 [==============================] - 0s 12ms/step - loss: 0.1839 - accuracy: 0.9505 - val_loss: 0.1747 - val_accuracy: 0.9670\n",
            "Epoch 7/100\n",
            "6/6 [==============================] - 0s 12ms/step - loss: 0.1562 - accuracy: 0.9560 - val_loss: 0.1551 - val_accuracy: 0.9670\n",
            "Epoch 8/100\n",
            "6/6 [==============================] - 0s 11ms/step - loss: 0.1346 - accuracy: 0.9643 - val_loss: 0.1406 - val_accuracy: 0.9780\n",
            "Epoch 9/100\n",
            "6/6 [==============================] - 0s 8ms/step - loss: 0.1189 - accuracy: 0.9753 - val_loss: 0.1297 - val_accuracy: 0.9780\n",
            "Epoch 10/100\n",
            "6/6 [==============================] - 0s 11ms/step - loss: 0.1062 - accuracy: 0.9753 - val_loss: 0.1212 - val_accuracy: 0.9780\n",
            "Epoch 11/100\n",
            "6/6 [==============================] - 0s 11ms/step - loss: 0.0962 - accuracy: 0.9780 - val_loss: 0.1143 - val_accuracy: 0.9780\n",
            "Epoch 12/100\n",
            "6/6 [==============================] - 0s 13ms/step - loss: 0.0885 - accuracy: 0.9808 - val_loss: 0.1091 - val_accuracy: 0.9780\n",
            "Epoch 13/100\n",
            "6/6 [==============================] - 0s 8ms/step - loss: 0.0822 - accuracy: 0.9835 - val_loss: 0.1049 - val_accuracy: 0.9780\n",
            "Epoch 14/100\n",
            "6/6 [==============================] - 0s 11ms/step - loss: 0.0761 - accuracy: 0.9863 - val_loss: 0.1015 - val_accuracy: 0.9780\n",
            "Epoch 15/100\n",
            "6/6 [==============================] - 0s 11ms/step - loss: 0.0716 - accuracy: 0.9890 - val_loss: 0.0985 - val_accuracy: 0.9780\n",
            "Epoch 16/100\n",
            "6/6 [==============================] - 0s 11ms/step - loss: 0.0674 - accuracy: 0.9890 - val_loss: 0.0959 - val_accuracy: 0.9780\n",
            "Epoch 17/100\n",
            "6/6 [==============================] - 0s 11ms/step - loss: 0.0635 - accuracy: 0.9890 - val_loss: 0.0935 - val_accuracy: 0.9780\n",
            "Epoch 18/100\n",
            "6/6 [==============================] - 0s 9ms/step - loss: 0.0602 - accuracy: 0.9890 - val_loss: 0.0918 - val_accuracy: 0.9780\n",
            "Epoch 19/100\n",
            "6/6 [==============================] - 0s 8ms/step - loss: 0.0571 - accuracy: 0.9890 - val_loss: 0.0902 - val_accuracy: 0.9780\n",
            "Epoch 20/100\n",
            "6/6 [==============================] - 0s 11ms/step - loss: 0.0546 - accuracy: 0.9890 - val_loss: 0.0888 - val_accuracy: 0.9780\n",
            "Epoch 21/100\n",
            "6/6 [==============================] - 0s 8ms/step - loss: 0.0523 - accuracy: 0.9890 - val_loss: 0.0872 - val_accuracy: 0.9780\n",
            "Epoch 22/100\n",
            "6/6 [==============================] - 0s 11ms/step - loss: 0.0500 - accuracy: 0.9890 - val_loss: 0.0863 - val_accuracy: 0.9780\n",
            "Epoch 23/100\n",
            "6/6 [==============================] - 0s 9ms/step - loss: 0.0479 - accuracy: 0.9890 - val_loss: 0.0852 - val_accuracy: 0.9780\n",
            "Epoch 24/100\n",
            "6/6 [==============================] - 0s 8ms/step - loss: 0.0461 - accuracy: 0.9890 - val_loss: 0.0839 - val_accuracy: 0.9780\n",
            "Epoch 25/100\n",
            "6/6 [==============================] - 0s 8ms/step - loss: 0.0443 - accuracy: 0.9890 - val_loss: 0.0830 - val_accuracy: 0.9780\n",
            "Epoch 26/100\n",
            "6/6 [==============================] - 0s 8ms/step - loss: 0.0429 - accuracy: 0.9890 - val_loss: 0.0821 - val_accuracy: 0.9780\n",
            "Epoch 27/100\n",
            "6/6 [==============================] - 0s 8ms/step - loss: 0.0410 - accuracy: 0.9890 - val_loss: 0.0812 - val_accuracy: 0.9780\n",
            "Epoch 28/100\n",
            "6/6 [==============================] - 0s 11ms/step - loss: 0.0398 - accuracy: 0.9890 - val_loss: 0.0811 - val_accuracy: 0.9670\n",
            "Epoch 29/100\n",
            "6/6 [==============================] - 0s 10ms/step - loss: 0.0382 - accuracy: 0.9918 - val_loss: 0.0801 - val_accuracy: 0.9670\n",
            "Epoch 30/100\n",
            "6/6 [==============================] - 0s 11ms/step - loss: 0.0369 - accuracy: 0.9918 - val_loss: 0.0790 - val_accuracy: 0.9670\n",
            "Epoch 31/100\n",
            "6/6 [==============================] - 0s 8ms/step - loss: 0.0359 - accuracy: 0.9945 - val_loss: 0.0784 - val_accuracy: 0.9670\n",
            "Epoch 32/100\n",
            "6/6 [==============================] - 0s 8ms/step - loss: 0.0343 - accuracy: 0.9945 - val_loss: 0.0780 - val_accuracy: 0.9670\n",
            "Epoch 33/100\n",
            "6/6 [==============================] - 0s 11ms/step - loss: 0.0331 - accuracy: 0.9945 - val_loss: 0.0779 - val_accuracy: 0.9670\n",
            "Epoch 34/100\n",
            "6/6 [==============================] - 0s 8ms/step - loss: 0.0319 - accuracy: 0.9945 - val_loss: 0.0775 - val_accuracy: 0.9670\n",
            "Epoch 35/100\n",
            "6/6 [==============================] - 0s 8ms/step - loss: 0.0310 - accuracy: 0.9945 - val_loss: 0.0771 - val_accuracy: 0.9670\n",
            "Epoch 36/100\n",
            "6/6 [==============================] - 0s 8ms/step - loss: 0.0298 - accuracy: 0.9945 - val_loss: 0.0770 - val_accuracy: 0.9670\n",
            "Epoch 37/100\n",
            "6/6 [==============================] - 0s 8ms/step - loss: 0.0287 - accuracy: 0.9945 - val_loss: 0.0764 - val_accuracy: 0.9670\n",
            "Epoch 38/100\n",
            "6/6 [==============================] - 0s 8ms/step - loss: 0.0279 - accuracy: 0.9945 - val_loss: 0.0765 - val_accuracy: 0.9780\n",
            "Epoch 39/100\n",
            "6/6 [==============================] - 0s 12ms/step - loss: 0.0270 - accuracy: 0.9945 - val_loss: 0.0769 - val_accuracy: 0.9780\n",
            "Epoch 40/100\n",
            "6/6 [==============================] - 0s 8ms/step - loss: 0.0260 - accuracy: 0.9945 - val_loss: 0.0770 - val_accuracy: 0.9780\n",
            "Epoch 41/100\n",
            "6/6 [==============================] - 0s 8ms/step - loss: 0.0252 - accuracy: 0.9945 - val_loss: 0.0774 - val_accuracy: 0.9780\n",
            "Epoch 42/100\n",
            "6/6 [==============================] - 0s 8ms/step - loss: 0.0243 - accuracy: 0.9945 - val_loss: 0.0766 - val_accuracy: 0.9780\n",
            "Epoch 43/100\n",
            "6/6 [==============================] - 0s 7ms/step - loss: 0.0237 - accuracy: 0.9945 - val_loss: 0.0761 - val_accuracy: 0.9780\n",
            "Epoch 44/100\n",
            "6/6 [==============================] - 0s 11ms/step - loss: 0.0230 - accuracy: 0.9945 - val_loss: 0.0780 - val_accuracy: 0.9780\n",
            "Epoch 45/100\n",
            "6/6 [==============================] - 0s 11ms/step - loss: 0.0220 - accuracy: 0.9945 - val_loss: 0.0785 - val_accuracy: 0.9780\n",
            "Epoch 46/100\n",
            "6/6 [==============================] - 0s 8ms/step - loss: 0.0212 - accuracy: 0.9945 - val_loss: 0.0787 - val_accuracy: 0.9780\n",
            "Epoch 47/100\n",
            "6/6 [==============================] - 0s 9ms/step - loss: 0.0205 - accuracy: 0.9945 - val_loss: 0.0781 - val_accuracy: 0.9780\n",
            "Epoch 48/100\n",
            "6/6 [==============================] - 0s 13ms/step - loss: 0.0198 - accuracy: 0.9945 - val_loss: 0.0780 - val_accuracy: 0.9780\n",
            "Epoch 49/100\n",
            "6/6 [==============================] - 0s 11ms/step - loss: 0.0190 - accuracy: 0.9945 - val_loss: 0.0790 - val_accuracy: 0.9780\n",
            "Epoch 50/100\n",
            "6/6 [==============================] - 0s 11ms/step - loss: 0.0185 - accuracy: 0.9945 - val_loss: 0.0805 - val_accuracy: 0.9780\n",
            "Epoch 51/100\n",
            "6/6 [==============================] - 0s 11ms/step - loss: 0.0177 - accuracy: 0.9945 - val_loss: 0.0803 - val_accuracy: 0.9780\n",
            "Epoch 52/100\n",
            "6/6 [==============================] - 0s 11ms/step - loss: 0.0171 - accuracy: 0.9945 - val_loss: 0.0816 - val_accuracy: 0.9780\n",
            "Epoch 53/100\n",
            "6/6 [==============================] - 0s 8ms/step - loss: 0.0163 - accuracy: 0.9945 - val_loss: 0.0817 - val_accuracy: 0.9780\n",
            "Epoch 54/100\n",
            "6/6 [==============================] - 0s 11ms/step - loss: 0.0158 - accuracy: 0.9945 - val_loss: 0.0826 - val_accuracy: 0.9780\n",
            "Epoch 55/100\n",
            "6/6 [==============================] - 0s 9ms/step - loss: 0.0151 - accuracy: 0.9945 - val_loss: 0.0821 - val_accuracy: 0.9780\n",
            "Epoch 56/100\n",
            "6/6 [==============================] - 0s 11ms/step - loss: 0.0146 - accuracy: 0.9945 - val_loss: 0.0819 - val_accuracy: 0.9780\n",
            "Epoch 57/100\n",
            "6/6 [==============================] - 0s 8ms/step - loss: 0.0142 - accuracy: 0.9945 - val_loss: 0.0826 - val_accuracy: 0.9670\n",
            "Epoch 58/100\n",
            "6/6 [==============================] - 0s 8ms/step - loss: 0.0135 - accuracy: 0.9945 - val_loss: 0.0830 - val_accuracy: 0.9780\n",
            "Epoch 59/100\n",
            "6/6 [==============================] - 0s 11ms/step - loss: 0.0130 - accuracy: 0.9945 - val_loss: 0.0836 - val_accuracy: 0.9780\n",
            "Epoch 60/100\n",
            "6/6 [==============================] - 0s 11ms/step - loss: 0.0126 - accuracy: 0.9945 - val_loss: 0.0842 - val_accuracy: 0.9670\n",
            "Epoch 61/100\n",
            "6/6 [==============================] - 0s 11ms/step - loss: 0.0120 - accuracy: 0.9945 - val_loss: 0.0850 - val_accuracy: 0.9780\n",
            "Epoch 62/100\n",
            "6/6 [==============================] - 0s 8ms/step - loss: 0.0116 - accuracy: 0.9945 - val_loss: 0.0862 - val_accuracy: 0.9780\n",
            "Epoch 63/100\n",
            "6/6 [==============================] - 0s 8ms/step - loss: 0.0111 - accuracy: 0.9945 - val_loss: 0.0864 - val_accuracy: 0.9780\n",
            "Epoch 64/100\n",
            "6/6 [==============================] - 0s 12ms/step - loss: 0.0107 - accuracy: 0.9973 - val_loss: 0.0862 - val_accuracy: 0.9670\n",
            "Epoch 65/100\n",
            "6/6 [==============================] - 0s 10ms/step - loss: 0.0103 - accuracy: 0.9973 - val_loss: 0.0858 - val_accuracy: 0.9670\n",
            "Epoch 66/100\n",
            "6/6 [==============================] - 0s 11ms/step - loss: 0.0098 - accuracy: 0.9973 - val_loss: 0.0866 - val_accuracy: 0.9670\n",
            "Epoch 67/100\n",
            "6/6 [==============================] - 0s 11ms/step - loss: 0.0094 - accuracy: 0.9973 - val_loss: 0.0869 - val_accuracy: 0.9670\n",
            "Epoch 68/100\n",
            "6/6 [==============================] - 0s 11ms/step - loss: 0.0091 - accuracy: 1.0000 - val_loss: 0.0873 - val_accuracy: 0.9670\n",
            "Epoch 69/100\n",
            "6/6 [==============================] - 0s 8ms/step - loss: 0.0089 - accuracy: 1.0000 - val_loss: 0.0888 - val_accuracy: 0.9670\n",
            "Epoch 70/100\n",
            "6/6 [==============================] - 0s 11ms/step - loss: 0.0083 - accuracy: 1.0000 - val_loss: 0.0881 - val_accuracy: 0.9670\n",
            "Epoch 71/100\n",
            "6/6 [==============================] - 0s 11ms/step - loss: 0.0081 - accuracy: 1.0000 - val_loss: 0.0881 - val_accuracy: 0.9670\n",
            "Epoch 72/100\n",
            "6/6 [==============================] - 0s 8ms/step - loss: 0.0077 - accuracy: 1.0000 - val_loss: 0.0886 - val_accuracy: 0.9670\n",
            "Epoch 73/100\n",
            "6/6 [==============================] - 0s 11ms/step - loss: 0.0075 - accuracy: 1.0000 - val_loss: 0.0885 - val_accuracy: 0.9670\n",
            "Epoch 74/100\n",
            "6/6 [==============================] - 0s 9ms/step - loss: 0.0071 - accuracy: 1.0000 - val_loss: 0.0896 - val_accuracy: 0.9670\n",
            "Epoch 75/100\n",
            "6/6 [==============================] - 0s 9ms/step - loss: 0.0069 - accuracy: 1.0000 - val_loss: 0.0897 - val_accuracy: 0.9670\n",
            "Epoch 76/100\n",
            "6/6 [==============================] - 0s 8ms/step - loss: 0.0066 - accuracy: 1.0000 - val_loss: 0.0910 - val_accuracy: 0.9670\n",
            "Epoch 77/100\n",
            "6/6 [==============================] - 0s 8ms/step - loss: 0.0063 - accuracy: 1.0000 - val_loss: 0.0908 - val_accuracy: 0.9670\n",
            "Epoch 78/100\n",
            "6/6 [==============================] - 0s 8ms/step - loss: 0.0062 - accuracy: 1.0000 - val_loss: 0.0909 - val_accuracy: 0.9670\n",
            "Epoch 79/100\n",
            "6/6 [==============================] - 0s 8ms/step - loss: 0.0061 - accuracy: 1.0000 - val_loss: 0.0908 - val_accuracy: 0.9670\n",
            "Epoch 80/100\n",
            "6/6 [==============================] - 0s 11ms/step - loss: 0.0057 - accuracy: 1.0000 - val_loss: 0.0914 - val_accuracy: 0.9670\n",
            "Epoch 81/100\n",
            "6/6 [==============================] - 0s 8ms/step - loss: 0.0055 - accuracy: 1.0000 - val_loss: 0.0910 - val_accuracy: 0.9670\n",
            "Epoch 82/100\n",
            "6/6 [==============================] - 0s 8ms/step - loss: 0.0053 - accuracy: 1.0000 - val_loss: 0.0907 - val_accuracy: 0.9670\n",
            "Epoch 83/100\n",
            "6/6 [==============================] - 0s 10ms/step - loss: 0.0051 - accuracy: 1.0000 - val_loss: 0.0907 - val_accuracy: 0.9670\n",
            "Epoch 84/100\n",
            "6/6 [==============================] - 0s 11ms/step - loss: 0.0049 - accuracy: 1.0000 - val_loss: 0.0916 - val_accuracy: 0.9670\n",
            "Epoch 85/100\n",
            "6/6 [==============================] - 0s 11ms/step - loss: 0.0048 - accuracy: 1.0000 - val_loss: 0.0931 - val_accuracy: 0.9670\n",
            "Epoch 86/100\n",
            "6/6 [==============================] - 0s 9ms/step - loss: 0.0046 - accuracy: 1.0000 - val_loss: 0.0933 - val_accuracy: 0.9670\n",
            "Epoch 87/100\n",
            "6/6 [==============================] - 0s 11ms/step - loss: 0.0044 - accuracy: 1.0000 - val_loss: 0.0939 - val_accuracy: 0.9670\n",
            "Epoch 88/100\n",
            "6/6 [==============================] - 0s 11ms/step - loss: 0.0043 - accuracy: 1.0000 - val_loss: 0.0934 - val_accuracy: 0.9670\n",
            "Epoch 89/100\n",
            "6/6 [==============================] - 0s 11ms/step - loss: 0.0041 - accuracy: 1.0000 - val_loss: 0.0942 - val_accuracy: 0.9560\n",
            "Epoch 90/100\n",
            "6/6 [==============================] - 0s 11ms/step - loss: 0.0040 - accuracy: 1.0000 - val_loss: 0.0947 - val_accuracy: 0.9560\n",
            "Epoch 91/100\n",
            "6/6 [==============================] - 0s 12ms/step - loss: 0.0038 - accuracy: 1.0000 - val_loss: 0.0949 - val_accuracy: 0.9560\n",
            "Epoch 92/100\n",
            "6/6 [==============================] - 0s 11ms/step - loss: 0.0037 - accuracy: 1.0000 - val_loss: 0.0966 - val_accuracy: 0.9560\n",
            "Epoch 93/100\n",
            "6/6 [==============================] - 0s 11ms/step - loss: 0.0036 - accuracy: 1.0000 - val_loss: 0.0969 - val_accuracy: 0.9560\n",
            "Epoch 94/100\n",
            "6/6 [==============================] - 0s 8ms/step - loss: 0.0035 - accuracy: 1.0000 - val_loss: 0.0946 - val_accuracy: 0.9560\n",
            "Epoch 95/100\n",
            "6/6 [==============================] - 0s 11ms/step - loss: 0.0033 - accuracy: 1.0000 - val_loss: 0.0947 - val_accuracy: 0.9560\n",
            "Epoch 96/100\n",
            "6/6 [==============================] - 0s 8ms/step - loss: 0.0033 - accuracy: 1.0000 - val_loss: 0.0963 - val_accuracy: 0.9560\n",
            "Epoch 97/100\n",
            "6/6 [==============================] - 0s 11ms/step - loss: 0.0032 - accuracy: 1.0000 - val_loss: 0.0956 - val_accuracy: 0.9560\n",
            "Epoch 98/100\n",
            "6/6 [==============================] - 0s 11ms/step - loss: 0.0031 - accuracy: 1.0000 - val_loss: 0.0965 - val_accuracy: 0.9560\n",
            "Epoch 99/100\n",
            "6/6 [==============================] - 0s 13ms/step - loss: 0.0030 - accuracy: 1.0000 - val_loss: 0.0991 - val_accuracy: 0.9560\n",
            "Epoch 100/100\n",
            "6/6 [==============================] - 0s 11ms/step - loss: 0.0029 - accuracy: 1.0000 - val_loss: 0.1000 - val_accuracy: 0.9560\n"
          ]
        }
      ]
    },
    {
      "cell_type": "code",
      "source": [
        "test_loss, test_acc = model.evaluate(X_test, y_test)\n",
        "print('Test Accuracy:', test_acc)\n"
      ],
      "metadata": {
        "colab": {
          "base_uri": "https://localhost:8080/"
        },
        "id": "qs5IA4OtcgkP",
        "outputId": "177efca0-d4b9-41ea-e567-611852c0febe"
      },
      "execution_count": null,
      "outputs": [
        {
          "output_type": "stream",
          "name": "stdout",
          "text": [
            "4/4 [==============================] - 0s 3ms/step - loss: 0.0810 - accuracy: 0.9737\n",
            "Test Accuracy: 0.9736841917037964\n"
          ]
        }
      ]
    },
    {
      "cell_type": "code",
      "source": [
        "import matplotlib.pyplot as plt\n",
        "\n",
        "plt.plot(history.history['accuracy'], label='accuracy')\n",
        "plt.plot(history.history['val_accuracy'], label = 'val_accuracy')\n",
        "plt.xlabel('Epoch')\n",
        "plt.ylabel('Accuracy')\n",
        "plt.legend(loc='lower right')\n",
        "plt.show()\n"
      ],
      "metadata": {
        "colab": {
          "base_uri": "https://localhost:8080/",
          "height": 449
        },
        "id": "kBxcEbzOcmZg",
        "outputId": "e46ccc74-e8f9-4f51-cdbf-ad31c74a97b2"
      },
      "execution_count": null,
      "outputs": [
        {
          "output_type": "display_data",
          "data": {
            "text/plain": [
              "<Figure size 640x480 with 1 Axes>"
            ],
            "image/png": "[encoded data removed]"
          },
          "metadata": {}
        }
      ]
    },
    {
      "cell_type": "code",
      "source": [
        "predictions = model.predict(X_test)\n"
      ],
      "metadata": {
        "colab": {
          "base_uri": "https://localhost:8080/"
        },
        "id": "cWNYR6hFdB6y",
        "outputId": "2bc9f6bf-5155-4df9-e066-d832a1e33761"
      },
      "execution_count": null,
      "outputs": [
        {
          "output_type": "stream",
          "name": "stdout",
          "text": [
            "4/4 [==============================] - 0s 3ms/step\n"
          ]
        }
      ]
    },
    {
      "cell_type": "code",
      "source": [
        "predicted_classes = (predictions > 0.5).astype(int)\n"
      ],
      "metadata": {
        "id": "srKyd-lqdDl1"
      },
      "execution_count": null,
      "outputs": []
    },
    {
      "cell_type": "code",
      "source": [
        "from sklearn.metrics import confusion_matrix, classification_report\n",
        "\n",
        "conf_matrix = confusion_matrix(y_test, predicted_classes)\n",
        "print(\"Confusion Matrix:\")\n",
        "print(conf_matrix)\n"
      ],
      "metadata": {
        "colab": {
          "base_uri": "https://localhost:8080/"
        },
        "id": "XSm9qcURdIKW",
        "outputId": "1cab98da-27ed-4fb4-91fb-159921e805c4"
      },
      "execution_count": null,
      "outputs": [
        {
          "output_type": "stream",
          "name": "stdout",
          "text": [
            "Confusion Matrix:\n",
            "[[70  1]\n",
            " [ 2 41]]\n"
          ]
        }
      ]
    },
    {
      "cell_type": "code",
      "source": [
        "class_report = classification_report(y_test, predicted_classes)\n",
        "print(\"Classification Report:\")\n",
        "print(class_report)\n"
      ],
      "metadata": {
        "colab": {
          "base_uri": "https://localhost:8080/"
        },
        "id": "PrDdEfmIdTGe",
        "outputId": "c78d521b-28cc-4070-98ea-c5a26086bb0d"
      },
      "execution_count": null,
      "outputs": [
        {
          "output_type": "stream",
          "name": "stdout",
          "text": [
            "Classification Report:\n",
            "              precision    recall  f1-score   support\n",
            "\n",
            "           0       0.97      0.99      0.98        71\n",
            "           1       0.98      0.95      0.96        43\n",
            "\n",
            "    accuracy                           0.97       114\n",
            "   macro avg       0.97      0.97      0.97       114\n",
            "weighted avg       0.97      0.97      0.97       114\n",
            "\n"
          ]
        }
      ]
    },
    {
      "cell_type": "code",
      "source": [
        "from sklearn.metrics import accuracy_score\n",
        "\n",
        "accuracy = accuracy_score(y_test, predicted_classes)\n",
        "print(\"Accuracy Score:\", accuracy)\n"
      ],
      "metadata": {
        "colab": {
          "base_uri": "https://localhost:8080/"
        },
        "id": "Is_efUlvdaGt",
        "outputId": "7bfca9ba-1b89-4785-9af2-6a5492f1b788"
      },
      "execution_count": null,
      "outputs": [
        {
          "output_type": "stream",
          "name": "stdout",
          "text": [
            "Accuracy Score: 0.9736842105263158\n"
          ]
        }
      ]
    }
  ]
}